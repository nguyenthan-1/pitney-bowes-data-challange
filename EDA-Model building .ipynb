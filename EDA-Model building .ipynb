{
 "cells": [
  {
   "cell_type": "code",
   "execution_count": 23,
   "id": "a6a858a3",
   "metadata": {},
   "outputs": [],
   "source": [
    "import pandas as pd \n",
    "import numpy as np \n",
    "import seaborn as sns \n",
    "sns.set()\n",
    "from matplotlib import pyplot as plt \n",
    "%matplotlib inline "
   ]
  },
  {
   "cell_type": "code",
   "execution_count": null,
   "id": "3b666081",
   "metadata": {},
   "outputs": [],
   "source": []
  },
  {
   "cell_type": "code",
   "execution_count": 24,
   "id": "3c44fe8d",
   "metadata": {},
   "outputs": [],
   "source": [
    "df = pd.read_csv('train_anonimized.csv')"
   ]
  },
  {
   "cell_type": "code",
   "execution_count": 25,
   "id": "64b9b98b",
   "metadata": {},
   "outputs": [
    {
     "data": {
      "text/html": [
       "<div>\n",
       "<style scoped>\n",
       "    .dataframe tbody tr th:only-of-type {\n",
       "        vertical-align: middle;\n",
       "    }\n",
       "\n",
       "    .dataframe tbody tr th {\n",
       "        vertical-align: top;\n",
       "    }\n",
       "\n",
       "    .dataframe thead th {\n",
       "        text-align: right;\n",
       "    }\n",
       "</style>\n",
       "<table border=\"1\" class=\"dataframe\">\n",
       "  <thead>\n",
       "    <tr style=\"text-align: right;\">\n",
       "      <th></th>\n",
       "      <th>NAICS_DESC</th>\n",
       "      <th>DATE</th>\n",
       "      <th>REVENUE</th>\n",
       "      <th>anonimized_name</th>\n",
       "    </tr>\n",
       "  </thead>\n",
       "  <tbody>\n",
       "    <tr>\n",
       "      <th>0</th>\n",
       "      <td>Commercial Banking</td>\n",
       "      <td>8/30/21</td>\n",
       "      <td>22</td>\n",
       "      <td>Jason Brown INC</td>\n",
       "    </tr>\n",
       "    <tr>\n",
       "      <th>1</th>\n",
       "      <td>Commercial Banking</td>\n",
       "      <td>8/31/21</td>\n",
       "      <td>98</td>\n",
       "      <td>Jason Brown INC</td>\n",
       "    </tr>\n",
       "    <tr>\n",
       "      <th>2</th>\n",
       "      <td>Commercial Banking</td>\n",
       "      <td>9/1/21</td>\n",
       "      <td>77</td>\n",
       "      <td>Jason Brown INC</td>\n",
       "    </tr>\n",
       "    <tr>\n",
       "      <th>3</th>\n",
       "      <td>Commercial Banking</td>\n",
       "      <td>9/2/21</td>\n",
       "      <td>82</td>\n",
       "      <td>Jason Brown INC</td>\n",
       "    </tr>\n",
       "    <tr>\n",
       "      <th>4</th>\n",
       "      <td>Commercial Banking</td>\n",
       "      <td>9/3/21</td>\n",
       "      <td>76</td>\n",
       "      <td>Jason Brown INC</td>\n",
       "    </tr>\n",
       "  </tbody>\n",
       "</table>\n",
       "</div>"
      ],
      "text/plain": [
       "           NAICS_DESC     DATE  REVENUE  anonimized_name\n",
       "0  Commercial Banking  8/30/21       22  Jason Brown INC\n",
       "1  Commercial Banking  8/31/21       98  Jason Brown INC\n",
       "2  Commercial Banking   9/1/21       77  Jason Brown INC\n",
       "3  Commercial Banking   9/2/21       82  Jason Brown INC\n",
       "4  Commercial Banking   9/3/21       76  Jason Brown INC"
      ]
     },
     "execution_count": 25,
     "metadata": {},
     "output_type": "execute_result"
    }
   ],
   "source": [
    "df.head()"
   ]
  },
  {
   "cell_type": "code",
   "execution_count": 26,
   "id": "e698cf9f",
   "metadata": {},
   "outputs": [
    {
     "data": {
      "text/plain": [
       "(25163, 4)"
      ]
     },
     "execution_count": 26,
     "metadata": {},
     "output_type": "execute_result"
    }
   ],
   "source": [
    "df.shape"
   ]
  },
  {
   "cell_type": "code",
   "execution_count": 27,
   "id": "8da0829d",
   "metadata": {},
   "outputs": [
    {
     "data": {
      "text/plain": [
       "NAICS_DESC         2592\n",
       "DATE                  0\n",
       "REVENUE               0\n",
       "anonimized_name       0\n",
       "dtype: int64"
      ]
     },
     "execution_count": 27,
     "metadata": {},
     "output_type": "execute_result"
    }
   ],
   "source": [
    "df.isnull().sum()"
   ]
  },
  {
   "cell_type": "code",
   "execution_count": 28,
   "id": "272ff35c",
   "metadata": {},
   "outputs": [
    {
     "data": {
      "text/plain": [
       "NAICS_DESC         2592\n",
       "DATE                  0\n",
       "REVENUE               0\n",
       "anonimized_name       0\n",
       "dtype: int64"
      ]
     },
     "execution_count": 28,
     "metadata": {},
     "output_type": "execute_result"
    }
   ],
   "source": [
    "df.isna().sum()"
   ]
  },
  {
   "cell_type": "code",
   "execution_count": 29,
   "id": "7f497c04",
   "metadata": {},
   "outputs": [
    {
     "data": {
      "text/plain": [
       "NAICS_DESC         0\n",
       "DATE               0\n",
       "REVENUE            0\n",
       "anonimized_name    0\n",
       "dtype: int64"
      ]
     },
     "execution_count": 29,
     "metadata": {},
     "output_type": "execute_result"
    }
   ],
   "source": [
    "newdf = df.dropna()\n",
    "newdf.isnull().sum()\n"
   ]
  },
  {
   "cell_type": "code",
   "execution_count": 30,
   "id": "5560f0da",
   "metadata": {},
   "outputs": [
    {
     "data": {
      "text/html": [
       "<div>\n",
       "<style scoped>\n",
       "    .dataframe tbody tr th:only-of-type {\n",
       "        vertical-align: middle;\n",
       "    }\n",
       "\n",
       "    .dataframe tbody tr th {\n",
       "        vertical-align: top;\n",
       "    }\n",
       "\n",
       "    .dataframe thead th {\n",
       "        text-align: right;\n",
       "    }\n",
       "</style>\n",
       "<table border=\"1\" class=\"dataframe\">\n",
       "  <thead>\n",
       "    <tr style=\"text-align: right;\">\n",
       "      <th></th>\n",
       "      <th>NAICS_DESC</th>\n",
       "      <th>DATE</th>\n",
       "      <th>REVENUE</th>\n",
       "      <th>anonimized_name</th>\n",
       "    </tr>\n",
       "  </thead>\n",
       "  <tbody>\n",
       "    <tr>\n",
       "      <th>0</th>\n",
       "      <td>Commercial Banking</td>\n",
       "      <td>8/30/21</td>\n",
       "      <td>22</td>\n",
       "      <td>Jason Brown INC</td>\n",
       "    </tr>\n",
       "    <tr>\n",
       "      <th>1</th>\n",
       "      <td>Commercial Banking</td>\n",
       "      <td>8/31/21</td>\n",
       "      <td>98</td>\n",
       "      <td>Jason Brown INC</td>\n",
       "    </tr>\n",
       "    <tr>\n",
       "      <th>2</th>\n",
       "      <td>Commercial Banking</td>\n",
       "      <td>9/1/21</td>\n",
       "      <td>77</td>\n",
       "      <td>Jason Brown INC</td>\n",
       "    </tr>\n",
       "    <tr>\n",
       "      <th>3</th>\n",
       "      <td>Commercial Banking</td>\n",
       "      <td>9/2/21</td>\n",
       "      <td>82</td>\n",
       "      <td>Jason Brown INC</td>\n",
       "    </tr>\n",
       "    <tr>\n",
       "      <th>4</th>\n",
       "      <td>Commercial Banking</td>\n",
       "      <td>9/3/21</td>\n",
       "      <td>76</td>\n",
       "      <td>Jason Brown INC</td>\n",
       "    </tr>\n",
       "  </tbody>\n",
       "</table>\n",
       "</div>"
      ],
      "text/plain": [
       "           NAICS_DESC     DATE  REVENUE  anonimized_name\n",
       "0  Commercial Banking  8/30/21       22  Jason Brown INC\n",
       "1  Commercial Banking  8/31/21       98  Jason Brown INC\n",
       "2  Commercial Banking   9/1/21       77  Jason Brown INC\n",
       "3  Commercial Banking   9/2/21       82  Jason Brown INC\n",
       "4  Commercial Banking   9/3/21       76  Jason Brown INC"
      ]
     },
     "execution_count": 30,
     "metadata": {},
     "output_type": "execute_result"
    }
   ],
   "source": [
    "newdf.head()"
   ]
  },
  {
   "cell_type": "code",
   "execution_count": 31,
   "id": "b7b60b9e",
   "metadata": {},
   "outputs": [
    {
     "data": {
      "text/plain": [
       "Commercial Banking                2368\n",
       "Direct Property and Casualty I    1942\n",
       "Executive Offices                 1869\n",
       "Direct Life Insurance Carriers    1714\n",
       "Data Processing, Hosting, and     1116\n",
       "Offices of Other Holding Compa    1111\n",
       "Direct Health and Medical Insu    1022\n",
       "All Other Legal Services          1009\n",
       "Civic and Social Organizations     786\n",
       "Real Estate Credit                 779\n",
       "All Other Support Services         768\n",
       "Footwear Manufacturing             652\n",
       "Jewelry Stores                     642\n",
       "Offices of Physicians, Mental      587\n",
       "Search, Detection, Navigation,     576\n",
       "Sheet Metal Work Manufacturing     536\n",
       "Electronic Shopping and Mail-O     520\n",
       "Offices of Lawyers                 488\n",
       "Insurance Agencies and Brokera     472\n",
       "Industrial Machinery and Equip     441\n",
       "Payroll Services                   429\n",
       "Offices of Physicians (except      419\n",
       "Crude Petroleum Extraction         418\n",
       "Nursery and Tree Production        407\n",
       "Financial Transactions Process     321\n",
       "Credit Bureaus                     314\n",
       "Printing Machinery and Equipme     227\n",
       "Commercial Printing (except Sc     214\n",
       "New Car Dealers                    198\n",
       "Women's, Children's, and Infan     122\n",
       "Pharmacies and Drug Stores         101\n",
       "Doll, Toy, and Game Manufactur       3\n",
       "Name: NAICS_DESC, dtype: int64"
      ]
     },
     "execution_count": 31,
     "metadata": {},
     "output_type": "execute_result"
    }
   ],
   "source": [
    "newdf['NAICS_DESC'].value_counts()"
   ]
  },
  {
   "cell_type": "code",
   "execution_count": 32,
   "id": "a720571c",
   "metadata": {},
   "outputs": [
    {
     "data": {
      "text/plain": [
       "Jason Brown INC              1872\n",
       "Kimberly Pratt INC           1116\n",
       "Hannah Holland INC           1009\n",
       "Holly Roberts INC             941\n",
       "Larry Morales INC             786\n",
       "Brian Porter INC              780\n",
       "Brian Miller INC              779\n",
       "Renee Fisher INC              773\n",
       "Brian Moore INC               768\n",
       "Amy Dunn INC                  689\n",
       "Cory Cooper INC               652\n",
       "Gary Nguyen INC               642\n",
       "Matthew Valdez INC            627\n",
       "Jeffrey Brown INC             587\n",
       "Jacob Stein INC               587\n",
       "Russell Yang INC              576\n",
       "Sean Weeks INC                575\n",
       "Jessica Hendricks INC         550\n",
       "Daniel George INC             536\n",
       "Dean Welch INC                520\n",
       "Anne Davis INC                484\n",
       "Nicholas Evans INC            472\n",
       "Brian Lester INC              441\n",
       "Miss Amanda Harris MD INC     429\n",
       "James Sandoval INC            423\n",
       "Ruth Hoffman INC              419\n",
       "Angela Maynard INC            418\n",
       "Todd Young INC                407\n",
       "Aaron Walker INC              402\n",
       "Scott Baker INC               383\n",
       "Teresa Haynes INC             374\n",
       "Robert Yoder INC              321\n",
       "John Houston INC              314\n",
       "Cody Brown INC                297\n",
       "Emily Blair INC               275\n",
       "Brian Maxwell INC             227\n",
       "Phyllis Hess INC              221\n",
       "Morgan Foster INC             198\n",
       "Andrew Perez INC              191\n",
       "David Moody INC               175\n",
       "Lisa Wilson INC               122\n",
       "Adam Hoffman INC              101\n",
       "Alexander Poole INC            86\n",
       "Brian Lee INC                  23\n",
       "Rebecca Castro INC              3\n",
       "Name: anonimized_name, dtype: int64"
      ]
     },
     "execution_count": 32,
     "metadata": {},
     "output_type": "execute_result"
    }
   ],
   "source": [
    "newdf['anonimized_name'].value_counts()"
   ]
  },
  {
   "cell_type": "code",
   "execution_count": 33,
   "id": "bdb8a119",
   "metadata": {},
   "outputs": [
    {
     "data": {
      "text/plain": [
       "NAICS_DESC                      anonimized_name   \n",
       "Credit Bureaus                  John Houston INC      11195871\n",
       "Industrial Machinery and Equip  Brian Lester INC       9147999\n",
       "Data Processing, Hosting, and   Kimberly Pratt INC     8041960\n",
       "Direct Property and Casualty I  Sean Weeks INC         7765955\n",
       "All Other Support Services      Brian Moore INC        7566217\n",
       "Direct Life Insurance Carriers  Renee Fisher INC       6234479\n",
       "Nursery and Tree Production     Todd Young INC         6133011\n",
       "Direct Life Insurance Carriers  Holly Roberts INC      6083809\n",
       "All Other Legal Services        Hannah Holland INC     6059928\n",
       "Executive Offices               James Sandoval INC     5234099\n",
       "Name: REVENUE, dtype: int64"
      ]
     },
     "execution_count": 33,
     "metadata": {},
     "output_type": "execute_result"
    }
   ],
   "source": [
    "condition = newdf.groupby(['NAICS_DESC','anonimized_name']) \n",
    "rev = condition['REVENUE'].sum().sort_values(ascending=False).head(10)\n",
    "rev"
   ]
  },
  {
   "cell_type": "raw",
   "id": "1e699972",
   "metadata": {},
   "source": []
  },
  {
   "cell_type": "code",
   "execution_count": null,
   "id": "854377f3",
   "metadata": {},
   "outputs": [],
   "source": []
  },
  {
   "cell_type": "code",
   "execution_count": null,
   "id": "4de52d04",
   "metadata": {},
   "outputs": [],
   "source": []
  },
  {
   "cell_type": "code",
   "execution_count": null,
   "id": "d491c433",
   "metadata": {},
   "outputs": [],
   "source": []
  },
  {
   "cell_type": "code",
   "execution_count": null,
   "id": "bf19cfcf",
   "metadata": {},
   "outputs": [],
   "source": []
  },
  {
   "cell_type": "code",
   "execution_count": null,
   "id": "86ac4bd6",
   "metadata": {},
   "outputs": [],
   "source": []
  }
 ],
 "metadata": {
  "kernelspec": {
   "display_name": "Python 3 (ipykernel)",
   "language": "python",
   "name": "python3"
  },
  "language_info": {
   "codemirror_mode": {
    "name": "ipython",
    "version": 3
   },
   "file_extension": ".py",
   "mimetype": "text/x-python",
   "name": "python",
   "nbconvert_exporter": "python",
   "pygments_lexer": "ipython3",
   "version": "3.10.0"
  }
 },
 "nbformat": 4,
 "nbformat_minor": 5
}
